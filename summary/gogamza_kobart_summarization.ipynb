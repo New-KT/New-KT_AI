{
  "nbformat": 4,
  "nbformat_minor": 0,
  "metadata": {
    "colab": {
      "provenance": []
    },
    "kernelspec": {
      "name": "python3",
      "display_name": "Python 3"
    },
    "language_info": {
      "name": "python"
    },
    "widgets": {
      "application/vnd.jupyter.widget-state+json": {
        "629dbc2a433e4109a837151714ed0e17": {
          "model_module": "@jupyter-widgets/controls",
          "model_name": "HBoxModel",
          "model_module_version": "1.5.0",
          "state": {
            "_dom_classes": [],
            "_model_module": "@jupyter-widgets/controls",
            "_model_module_version": "1.5.0",
            "_model_name": "HBoxModel",
            "_view_count": null,
            "_view_module": "@jupyter-widgets/controls",
            "_view_module_version": "1.5.0",
            "_view_name": "HBoxView",
            "box_style": "",
            "children": [
              "IPY_MODEL_5145a8bf40c14dfabea3577769b42c9f",
              "IPY_MODEL_9a34b43faa7342ccb50f2ad8c1e1df0e",
              "IPY_MODEL_9b4839d3d9224b408d670d624ef60f91"
            ],
            "layout": "IPY_MODEL_4d72720a289245fda4126b7d55c69547"
          }
        },
        "5145a8bf40c14dfabea3577769b42c9f": {
          "model_module": "@jupyter-widgets/controls",
          "model_name": "HTMLModel",
          "model_module_version": "1.5.0",
          "state": {
            "_dom_classes": [],
            "_model_module": "@jupyter-widgets/controls",
            "_model_module_version": "1.5.0",
            "_model_name": "HTMLModel",
            "_view_count": null,
            "_view_module": "@jupyter-widgets/controls",
            "_view_module_version": "1.5.0",
            "_view_name": "HTMLView",
            "description": "",
            "description_tooltip": null,
            "layout": "IPY_MODEL_a5c1c2ced3da45cf815f120117a058ae",
            "placeholder": "​",
            "style": "IPY_MODEL_520856ac38f64c0faf5caacb3ad7fd48",
            "value": "model.safetensors: 100%"
          }
        },
        "9a34b43faa7342ccb50f2ad8c1e1df0e": {
          "model_module": "@jupyter-widgets/controls",
          "model_name": "FloatProgressModel",
          "model_module_version": "1.5.0",
          "state": {
            "_dom_classes": [],
            "_model_module": "@jupyter-widgets/controls",
            "_model_module_version": "1.5.0",
            "_model_name": "FloatProgressModel",
            "_view_count": null,
            "_view_module": "@jupyter-widgets/controls",
            "_view_module_version": "1.5.0",
            "_view_name": "ProgressView",
            "bar_style": "success",
            "description": "",
            "description_tooltip": null,
            "layout": "IPY_MODEL_3790275c74a5402f82bb5e0b033be51f",
            "max": 495589764,
            "min": 0,
            "orientation": "horizontal",
            "style": "IPY_MODEL_52df473f305b45658b39b05c39fa24e2",
            "value": 495589764
          }
        },
        "9b4839d3d9224b408d670d624ef60f91": {
          "model_module": "@jupyter-widgets/controls",
          "model_name": "HTMLModel",
          "model_module_version": "1.5.0",
          "state": {
            "_dom_classes": [],
            "_model_module": "@jupyter-widgets/controls",
            "_model_module_version": "1.5.0",
            "_model_name": "HTMLModel",
            "_view_count": null,
            "_view_module": "@jupyter-widgets/controls",
            "_view_module_version": "1.5.0",
            "_view_name": "HTMLView",
            "description": "",
            "description_tooltip": null,
            "layout": "IPY_MODEL_5d989df0b55043bca0c26aee3d26e8dc",
            "placeholder": "​",
            "style": "IPY_MODEL_d95b1218c2814cf39efdb24ae46d147f",
            "value": " 496M/496M [00:12&lt;00:00, 41.5MB/s]"
          }
        },
        "4d72720a289245fda4126b7d55c69547": {
          "model_module": "@jupyter-widgets/base",
          "model_name": "LayoutModel",
          "model_module_version": "1.2.0",
          "state": {
            "_model_module": "@jupyter-widgets/base",
            "_model_module_version": "1.2.0",
            "_model_name": "LayoutModel",
            "_view_count": null,
            "_view_module": "@jupyter-widgets/base",
            "_view_module_version": "1.2.0",
            "_view_name": "LayoutView",
            "align_content": null,
            "align_items": null,
            "align_self": null,
            "border": null,
            "bottom": null,
            "display": null,
            "flex": null,
            "flex_flow": null,
            "grid_area": null,
            "grid_auto_columns": null,
            "grid_auto_flow": null,
            "grid_auto_rows": null,
            "grid_column": null,
            "grid_gap": null,
            "grid_row": null,
            "grid_template_areas": null,
            "grid_template_columns": null,
            "grid_template_rows": null,
            "height": null,
            "justify_content": null,
            "justify_items": null,
            "left": null,
            "margin": null,
            "max_height": null,
            "max_width": null,
            "min_height": null,
            "min_width": null,
            "object_fit": null,
            "object_position": null,
            "order": null,
            "overflow": null,
            "overflow_x": null,
            "overflow_y": null,
            "padding": null,
            "right": null,
            "top": null,
            "visibility": null,
            "width": null
          }
        },
        "a5c1c2ced3da45cf815f120117a058ae": {
          "model_module": "@jupyter-widgets/base",
          "model_name": "LayoutModel",
          "model_module_version": "1.2.0",
          "state": {
            "_model_module": "@jupyter-widgets/base",
            "_model_module_version": "1.2.0",
            "_model_name": "LayoutModel",
            "_view_count": null,
            "_view_module": "@jupyter-widgets/base",
            "_view_module_version": "1.2.0",
            "_view_name": "LayoutView",
            "align_content": null,
            "align_items": null,
            "align_self": null,
            "border": null,
            "bottom": null,
            "display": null,
            "flex": null,
            "flex_flow": null,
            "grid_area": null,
            "grid_auto_columns": null,
            "grid_auto_flow": null,
            "grid_auto_rows": null,
            "grid_column": null,
            "grid_gap": null,
            "grid_row": null,
            "grid_template_areas": null,
            "grid_template_columns": null,
            "grid_template_rows": null,
            "height": null,
            "justify_content": null,
            "justify_items": null,
            "left": null,
            "margin": null,
            "max_height": null,
            "max_width": null,
            "min_height": null,
            "min_width": null,
            "object_fit": null,
            "object_position": null,
            "order": null,
            "overflow": null,
            "overflow_x": null,
            "overflow_y": null,
            "padding": null,
            "right": null,
            "top": null,
            "visibility": null,
            "width": null
          }
        },
        "520856ac38f64c0faf5caacb3ad7fd48": {
          "model_module": "@jupyter-widgets/controls",
          "model_name": "DescriptionStyleModel",
          "model_module_version": "1.5.0",
          "state": {
            "_model_module": "@jupyter-widgets/controls",
            "_model_module_version": "1.5.0",
            "_model_name": "DescriptionStyleModel",
            "_view_count": null,
            "_view_module": "@jupyter-widgets/base",
            "_view_module_version": "1.2.0",
            "_view_name": "StyleView",
            "description_width": ""
          }
        },
        "3790275c74a5402f82bb5e0b033be51f": {
          "model_module": "@jupyter-widgets/base",
          "model_name": "LayoutModel",
          "model_module_version": "1.2.0",
          "state": {
            "_model_module": "@jupyter-widgets/base",
            "_model_module_version": "1.2.0",
            "_model_name": "LayoutModel",
            "_view_count": null,
            "_view_module": "@jupyter-widgets/base",
            "_view_module_version": "1.2.0",
            "_view_name": "LayoutView",
            "align_content": null,
            "align_items": null,
            "align_self": null,
            "border": null,
            "bottom": null,
            "display": null,
            "flex": null,
            "flex_flow": null,
            "grid_area": null,
            "grid_auto_columns": null,
            "grid_auto_flow": null,
            "grid_auto_rows": null,
            "grid_column": null,
            "grid_gap": null,
            "grid_row": null,
            "grid_template_areas": null,
            "grid_template_columns": null,
            "grid_template_rows": null,
            "height": null,
            "justify_content": null,
            "justify_items": null,
            "left": null,
            "margin": null,
            "max_height": null,
            "max_width": null,
            "min_height": null,
            "min_width": null,
            "object_fit": null,
            "object_position": null,
            "order": null,
            "overflow": null,
            "overflow_x": null,
            "overflow_y": null,
            "padding": null,
            "right": null,
            "top": null,
            "visibility": null,
            "width": null
          }
        },
        "52df473f305b45658b39b05c39fa24e2": {
          "model_module": "@jupyter-widgets/controls",
          "model_name": "ProgressStyleModel",
          "model_module_version": "1.5.0",
          "state": {
            "_model_module": "@jupyter-widgets/controls",
            "_model_module_version": "1.5.0",
            "_model_name": "ProgressStyleModel",
            "_view_count": null,
            "_view_module": "@jupyter-widgets/base",
            "_view_module_version": "1.2.0",
            "_view_name": "StyleView",
            "bar_color": null,
            "description_width": ""
          }
        },
        "5d989df0b55043bca0c26aee3d26e8dc": {
          "model_module": "@jupyter-widgets/base",
          "model_name": "LayoutModel",
          "model_module_version": "1.2.0",
          "state": {
            "_model_module": "@jupyter-widgets/base",
            "_model_module_version": "1.2.0",
            "_model_name": "LayoutModel",
            "_view_count": null,
            "_view_module": "@jupyter-widgets/base",
            "_view_module_version": "1.2.0",
            "_view_name": "LayoutView",
            "align_content": null,
            "align_items": null,
            "align_self": null,
            "border": null,
            "bottom": null,
            "display": null,
            "flex": null,
            "flex_flow": null,
            "grid_area": null,
            "grid_auto_columns": null,
            "grid_auto_flow": null,
            "grid_auto_rows": null,
            "grid_column": null,
            "grid_gap": null,
            "grid_row": null,
            "grid_template_areas": null,
            "grid_template_columns": null,
            "grid_template_rows": null,
            "height": null,
            "justify_content": null,
            "justify_items": null,
            "left": null,
            "margin": null,
            "max_height": null,
            "max_width": null,
            "min_height": null,
            "min_width": null,
            "object_fit": null,
            "object_position": null,
            "order": null,
            "overflow": null,
            "overflow_x": null,
            "overflow_y": null,
            "padding": null,
            "right": null,
            "top": null,
            "visibility": null,
            "width": null
          }
        },
        "d95b1218c2814cf39efdb24ae46d147f": {
          "model_module": "@jupyter-widgets/controls",
          "model_name": "DescriptionStyleModel",
          "model_module_version": "1.5.0",
          "state": {
            "_model_module": "@jupyter-widgets/controls",
            "_model_module_version": "1.5.0",
            "_model_name": "DescriptionStyleModel",
            "_view_count": null,
            "_view_module": "@jupyter-widgets/base",
            "_view_module_version": "1.2.0",
            "_view_name": "StyleView",
            "description_width": ""
          }
        }
      }
    }
  },
  "cells": [
    {
      "cell_type": "code",
      "execution_count": 1,
      "metadata": {
        "colab": {
          "base_uri": "https://localhost:8080/"
        },
        "id": "50gUAyhKDykn",
        "outputId": "bf6055c4-f2f6-40d1-d779-4c9cb726059e"
      },
      "outputs": [
        {
          "output_type": "stream",
          "name": "stdout",
          "text": [
            "Requirement already satisfied: transformers in /usr/local/lib/python3.10/dist-packages (4.35.2)\n",
            "Requirement already satisfied: filelock in /usr/local/lib/python3.10/dist-packages (from transformers) (3.13.1)\n",
            "Requirement already satisfied: huggingface-hub<1.0,>=0.16.4 in /usr/local/lib/python3.10/dist-packages (from transformers) (0.19.4)\n",
            "Requirement already satisfied: numpy>=1.17 in /usr/local/lib/python3.10/dist-packages (from transformers) (1.23.5)\n",
            "Requirement already satisfied: packaging>=20.0 in /usr/local/lib/python3.10/dist-packages (from transformers) (23.2)\n",
            "Requirement already satisfied: pyyaml>=5.1 in /usr/local/lib/python3.10/dist-packages (from transformers) (6.0.1)\n",
            "Requirement already satisfied: regex!=2019.12.17 in /usr/local/lib/python3.10/dist-packages (from transformers) (2023.6.3)\n",
            "Requirement already satisfied: requests in /usr/local/lib/python3.10/dist-packages (from transformers) (2.31.0)\n",
            "Requirement already satisfied: tokenizers<0.19,>=0.14 in /usr/local/lib/python3.10/dist-packages (from transformers) (0.15.0)\n",
            "Requirement already satisfied: safetensors>=0.3.1 in /usr/local/lib/python3.10/dist-packages (from transformers) (0.4.1)\n",
            "Requirement already satisfied: tqdm>=4.27 in /usr/local/lib/python3.10/dist-packages (from transformers) (4.66.1)\n",
            "Requirement already satisfied: fsspec>=2023.5.0 in /usr/local/lib/python3.10/dist-packages (from huggingface-hub<1.0,>=0.16.4->transformers) (2023.6.0)\n",
            "Requirement already satisfied: typing-extensions>=3.7.4.3 in /usr/local/lib/python3.10/dist-packages (from huggingface-hub<1.0,>=0.16.4->transformers) (4.5.0)\n",
            "Requirement already satisfied: charset-normalizer<4,>=2 in /usr/local/lib/python3.10/dist-packages (from requests->transformers) (3.3.2)\n",
            "Requirement already satisfied: idna<4,>=2.5 in /usr/local/lib/python3.10/dist-packages (from requests->transformers) (3.6)\n",
            "Requirement already satisfied: urllib3<3,>=1.21.1 in /usr/local/lib/python3.10/dist-packages (from requests->transformers) (2.0.7)\n",
            "Requirement already satisfied: certifi>=2017.4.17 in /usr/local/lib/python3.10/dist-packages (from requests->transformers) (2023.11.17)\n"
          ]
        }
      ],
      "source": [
        "pip install transformers"
      ]
    },
    {
      "cell_type": "code",
      "source": [
        "from transformers import PreTrainedTokenizerFast, BartForConditionalGeneration\n",
        "#  Load Model and Tokenize\n",
        "tokenizer = PreTrainedTokenizerFast.from_pretrained(\"gogamza/kobart-summarization\")\n",
        "model = BartForConditionalGeneration.from_pretrained(\"gogamza/kobart-summarization\")\n",
        "# Encode Input Text"
      ],
      "metadata": {
        "colab": {
          "base_uri": "https://localhost:8080/",
          "height": 140,
          "referenced_widgets": [
            "629dbc2a433e4109a837151714ed0e17",
            "5145a8bf40c14dfabea3577769b42c9f",
            "9a34b43faa7342ccb50f2ad8c1e1df0e",
            "9b4839d3d9224b408d670d624ef60f91",
            "4d72720a289245fda4126b7d55c69547",
            "a5c1c2ced3da45cf815f120117a058ae",
            "520856ac38f64c0faf5caacb3ad7fd48",
            "3790275c74a5402f82bb5e0b033be51f",
            "52df473f305b45658b39b05c39fa24e2",
            "5d989df0b55043bca0c26aee3d26e8dc",
            "d95b1218c2814cf39efdb24ae46d147f"
          ]
        },
        "id": "SVDIQSamD0xt",
        "outputId": "be8e68b0-e14b-4fa9-dadc-b32657160a5b"
      },
      "execution_count": 4,
      "outputs": [
        {
          "output_type": "stream",
          "name": "stderr",
          "text": [
            "You passed along `num_labels=3` with an incompatible id to label map: {'0': 'NEGATIVE', '1': 'POSITIVE'}. The number of labels wil be overwritten to 2.\n",
            "The tokenizer class you load from this checkpoint is not the same type as the class this function is called from. It may result in unexpected tokenization. \n",
            "The tokenizer class you load from this checkpoint is 'BartTokenizer'. \n",
            "The class this function is called from is 'PreTrainedTokenizerFast'.\n",
            "You passed along `num_labels=3` with an incompatible id to label map: {'0': 'NEGATIVE', '1': 'POSITIVE'}. The number of labels wil be overwritten to 2.\n"
          ]
        },
        {
          "output_type": "display_data",
          "data": {
            "text/plain": [
              "model.safetensors:   0%|          | 0.00/496M [00:00<?, ?B/s]"
            ],
            "application/vnd.jupyter.widget-view+json": {
              "version_major": 2,
              "version_minor": 0,
              "model_id": "629dbc2a433e4109a837151714ed0e17"
            }
          },
          "metadata": {}
        }
      ]
    },
    {
      "cell_type": "code",
      "source": [
        "text=\"안녕하세요, 여러분. 오늘은 저희의 AI 기술 스택 업그레이드에 대한 논의를 시작하려고 합니다. 먼저, 자연어 처리 모듈에 대한 임베딩 방법에 관해 얘기해 봅시다. 최근에 Transformer 기반의 BERT 모델을 검토해 보았는데, 이에 대한 의견이 있나요?네, 그러한 모델은 문맥 파악에서 우수한 성능을 보이는 편이에요. 그러나 우리의 특정 사용 사례에 대한 커스터마이징이 필요할 것으로 보입니다. 어떤 토큰 레벨의 조정이 필요한지 논의해 볼 필요가 있어 보입니다.나는 BERT의 훈련 데이터셋을 구축하는 데 사용된 전처리 과정에 대해 좀 더 이해하고 싶어졌어. 그 부분에 대한 자세한 설명을 들을 수 있을까요?좋은 질문이에요. 훈련 데이터셋 구축 단계에서 사용된 토큰화 전략 및 레이블링 프로세스에 대한 설명이 필요하겠네요. 이 연구원님, 간략하게 설명해 주시겠어요?물론이죠. 훈련 데이터셋은 다양한 도메인에서 가져온 대화체 및 문장들로 이루어져 있습니다. 토큰화는 SentencePiece를 사용했고, 레이블링은 특정 작업에 따라 다르게 수행되었습니다. 그렇군요. 이제 데이터셋의 품질을 유지하기 위한 품질 보증 단계에 대해 얘기해 볼까요?네, 데이터 품질 관리는 매우 중요합니다. 특히 라벨링 오류와 불균형한 클래스 분포를 최소화하기 위한 접근 방법을 고려해 보아야 할 것 같습니다.추가로, 이 모델의 인퍼런스 시간과 메모리 사용량에 대한 벤치마킹 결과를 공유할 수 있을까요? 네, 그 부분은 현재 진행 중이며 다음 회의 때 상세한 결과를 제시하도록 하겠습니다.다들 수고하셨습니다. 감사합니다. 다음 회의에서는 구체적인 수정 사항과 개선 계획에 대해 논의하겠습니다.\"\n",
        "input_ids=tokenizer.encode(text)"
      ],
      "metadata": {
        "id": "W0Hd9K7IEAI6"
      },
      "execution_count": 7,
      "outputs": []
    },
    {
      "cell_type": "code",
      "source": [
        "print(input_ids)"
      ],
      "metadata": {
        "colab": {
          "base_uri": "https://localhost:8080/"
        },
        "id": "lwg_ZVNvF7Pz",
        "outputId": "e0e6a74c-a95c-4a39-eeb0-964819ff672c"
      },
      "execution_count": 8,
      "outputs": [
        {
          "output_type": "stream",
          "name": "stdout",
          "text": [
            "[22465, 23935, 243, 18918, 245, 22619, 18068, 12024, 23091, 14702, 14148, 13146, 24710, 11786, 14152, 22476, 14351, 18055, 25742, 15165, 243, 15075, 11763, 15866, 14069, 9983, 11786, 14152, 14300, 10849, 10024, 14909, 11786, 24352, 15734, 13607, 24110, 11465, 14130, 26079, 15054, 313, 15195, 314, 301, 15463, 308, 14879, 16097, 12024, 15085, 27271, 283, 24224, 15593, 13607, 21222, 15133, 14599, 14152, 20139, 21464, 17784, 9567, 243, 18280, 15765, 12005, 14111, 10519, 15920, 14030, 19953, 19719, 12007, 16548, 14433, 15958, 14543, 14381, 16433, 16886, 14442, 15852, 11786, 14152, 14600, 15742, 20920, 12348, 12034, 25103, 14173, 14046, 16669, 14593, 14521, 13092, 14986, 10854, 12024, 14077, 15144, 15490, 12332, 15403, 13607, 14583, 16328, 14389, 14046, 16669, 14992, 15085, 27271, 283, 12024, 16091, 17360, 11294, 12007, 15733, 14049, 14307, 14442, 9908, 14038, 18459, 22218, 14225, 14813, 14166, 25801, 18189, 12169, 20838, 14028, 21053, 14152, 21804, 23008, 22159, 14032, 22860, 17784, 24020, 16004, 15958, 14543, 16091, 17360, 11294, 15733, 16172, 14030, 14442, 9908, 14521, 13092, 13714, 15282, 14280, 16843, 11011, 10490, 23942, 17693, 14152, 14490, 12034, 14384, 14642, 9567, 14543, 14025, 14541, 11936, 22463, 14313, 10246, 14159, 14490, 13607, 21888, 9060, 11763, 17784, 10675, 20983, 17984, 16091, 17360, 11294, 12005, 14641, 14121, 10570, 12037, 14030, 15950, 11843, 16018, 12687, 14280, 26729, 17509, 16526, 12159, 20628, 14521, 13092, 17180, 14470, 16884, 15265, 22038, 279, 26648, 22038, 10443, 14442, 15445, 16843, 11011, 10490, 12005, 16886, 26171, 14302, 22265, 16179, 15568, 15170, 14764, 26788, 14667, 17360, 11294, 12024, 15346, 16695, 15047, 14191, 14353, 19087, 20179, 16172, 11786, 14225, 15734, 13607, 14583, 9286, 17784, 9567, 243, 17360, 19087, 14073, 14298, 15468, 14610, 20357, 14445, 14560, 10854, 10490, 14075, 10428, 11863, 14135, 25979, 13590, 19868, 11440, 14142, 18366, 22797, 14191, 14353, 16405, 17998, 19621, 14046, 16402, 14207, 14033, 14163, 15170, 25670, 15888, 14025, 15765, 12024, 14057, 24581, 11440, 25866, 23096, 10476, 14442, 10256, 11786, 14152, 27742, 10496, 13120, 16579, 17080, 13594, 14032, 22860, 17784, 14323, 243, 14028, 20662, 14475, 14434, 14059, 15479, 14565, 15915, 14089, 14066, 22097, 16579, 15299, 15542, 16767, 15170, 9754, 9993, 14032, 9102, 20032, 15170, 15696, 20357, 14565, 15915, 14275, 17619, 18150, 18651, 9120, 15098, 29058, 14225, 15403, 14642, 15170]\n"
          ]
        }
      ]
    },
    {
      "cell_type": "code",
      "source": [],
      "metadata": {
        "id": "uSGmgfNeGrie"
      },
      "execution_count": null,
      "outputs": []
    },
    {
      "cell_type": "code",
      "source": [
        "import torch\n",
        "input_ids=[tokenizer.bos_token_id] + input_ids + [tokenizer.eos_token_id]\n",
        "input_ids=torch.tensor([input_ids])"
      ],
      "metadata": {
        "id": "2JvWMNIVGBTy"
      },
      "execution_count": 11,
      "outputs": []
    },
    {
      "cell_type": "code",
      "source": [
        "input_ids"
      ],
      "metadata": {
        "colab": {
          "base_uri": "https://localhost:8080/"
        },
        "id": "oE9pJDeeGMQF",
        "outputId": "b94c3be2-f58d-46a3-d87b-af5562b7510d"
      },
      "execution_count": 12,
      "outputs": [
        {
          "output_type": "execute_result",
          "data": {
            "text/plain": [
              "tensor([[    0,     0,     0, 22465, 23935,   243, 18918,   245, 22619, 18068,\n",
              "         12024, 23091, 14702, 14148, 13146, 24710, 11786, 14152, 22476, 14351,\n",
              "         18055, 25742, 15165,   243, 15075, 11763, 15866, 14069,  9983, 11786,\n",
              "         14152, 14300, 10849, 10024, 14909, 11786, 24352, 15734, 13607, 24110,\n",
              "         11465, 14130, 26079, 15054,   313, 15195,   314,   301, 15463,   308,\n",
              "         14879, 16097, 12024, 15085, 27271,   283, 24224, 15593, 13607, 21222,\n",
              "         15133, 14599, 14152, 20139, 21464, 17784,  9567,   243, 18280, 15765,\n",
              "         12005, 14111, 10519, 15920, 14030, 19953, 19719, 12007, 16548, 14433,\n",
              "         15958, 14543, 14381, 16433, 16886, 14442, 15852, 11786, 14152, 14600,\n",
              "         15742, 20920, 12348, 12034, 25103, 14173, 14046, 16669, 14593, 14521,\n",
              "         13092, 14986, 10854, 12024, 14077, 15144, 15490, 12332, 15403, 13607,\n",
              "         14583, 16328, 14389, 14046, 16669, 14992, 15085, 27271,   283, 12024,\n",
              "         16091, 17360, 11294, 12007, 15733, 14049, 14307, 14442,  9908, 14038,\n",
              "         18459, 22218, 14225, 14813, 14166, 25801, 18189, 12169, 20838, 14028,\n",
              "         21053, 14152, 21804, 23008, 22159, 14032, 22860, 17784, 24020, 16004,\n",
              "         15958, 14543, 16091, 17360, 11294, 15733, 16172, 14030, 14442,  9908,\n",
              "         14521, 13092, 13714, 15282, 14280, 16843, 11011, 10490, 23942, 17693,\n",
              "         14152, 14490, 12034, 14384, 14642,  9567, 14543, 14025, 14541, 11936,\n",
              "         22463, 14313, 10246, 14159, 14490, 13607, 21888,  9060, 11763, 17784,\n",
              "         10675, 20983, 17984, 16091, 17360, 11294, 12005, 14641, 14121, 10570,\n",
              "         12037, 14030, 15950, 11843, 16018, 12687, 14280, 26729, 17509, 16526,\n",
              "         12159, 20628, 14521, 13092, 17180, 14470, 16884, 15265, 22038,   279,\n",
              "         26648, 22038, 10443, 14442, 15445, 16843, 11011, 10490, 12005, 16886,\n",
              "         26171, 14302, 22265, 16179, 15568, 15170, 14764, 26788, 14667, 17360,\n",
              "         11294, 12024, 15346, 16695, 15047, 14191, 14353, 19087, 20179, 16172,\n",
              "         11786, 14225, 15734, 13607, 14583,  9286, 17784,  9567,   243, 17360,\n",
              "         19087, 14073, 14298, 15468, 14610, 20357, 14445, 14560, 10854, 10490,\n",
              "         14075, 10428, 11863, 14135, 25979, 13590, 19868, 11440, 14142, 18366,\n",
              "         22797, 14191, 14353, 16405, 17998, 19621, 14046, 16402, 14207, 14033,\n",
              "         14163, 15170, 25670, 15888, 14025, 15765, 12024, 14057, 24581, 11440,\n",
              "         25866, 23096, 10476, 14442, 10256, 11786, 14152, 27742, 10496, 13120,\n",
              "         16579, 17080, 13594, 14032, 22860, 17784, 14323,   243, 14028, 20662,\n",
              "         14475, 14434, 14059, 15479, 14565, 15915, 14089, 14066, 22097, 16579,\n",
              "         15299, 15542, 16767, 15170,  9754,  9993, 14032,  9102, 20032, 15170,\n",
              "         15696, 20357, 14565, 15915, 14275, 17619, 18150, 18651,  9120, 15098,\n",
              "         29058, 14225, 15403, 14642, 15170,     1,     1,     1]])"
            ]
          },
          "metadata": {},
          "execution_count": 12
        }
      ]
    },
    {
      "cell_type": "code",
      "source": [
        "summary_test_ids = model.generate(\n",
        "    input_ids=input_ids,\n",
        "    bos_token_id=model.config.bos_token_id,\n",
        "    eos_token_id=model.config.eos_token_id,\n",
        "    length_penalty=2.0,\n",
        "    max_length=128,\n",
        "    min_length=32,\n",
        "    num_beams=4\n",
        ")"
      ],
      "metadata": {
        "id": "7yA-hlqBGkwH"
      },
      "execution_count": 13,
      "outputs": []
    },
    {
      "cell_type": "code",
      "source": [
        "print(summary_test_ids)"
      ],
      "metadata": {
        "colab": {
          "base_uri": "https://localhost:8080/"
        },
        "id": "IX9oao9bG9YL",
        "outputId": "054708f0-d5dd-4edd-e388-11a4492cdc83"
      },
      "execution_count": 15,
      "outputs": [
        {
          "output_type": "stream",
          "name": "stdout",
          "text": [
            "tensor([[    2, 22619, 23091, 12024, 23091, 14702, 14148, 13146, 24710, 11786,\n",
            "         14152, 22476, 14351, 18055, 22374, 15054,   313, 15195,   314,   301,\n",
            "         15463,   308, 14879, 16097, 12024, 15085, 27271,   283, 24224, 15593,\n",
            "         13607, 21222, 15133, 14025, 15765, 12005, 14111, 10519, 15920, 14030,\n",
            "         19953, 19719, 12007, 16548, 14433, 17337, 14593, 14521, 13092, 14986,\n",
            "         10854, 12024, 14077, 15144, 15490, 12332, 15403, 13607, 14583, 16328,\n",
            "         14389, 14046, 16669,     1]])\n"
          ]
        }
      ]
    },
    {
      "cell_type": "code",
      "source": [
        "print(tokenizer.decode(summary_test_ids[0], skip_special_tokens=True))"
      ],
      "metadata": {
        "colab": {
          "base_uri": "https://localhost:8080/"
        },
        "id": "ckmFrdcLHCMD",
        "outputId": "970299ce-db21-415e-f043-3eee753e85e4"
      },
      "execution_count": 17,
      "outputs": [
        {
          "output_type": "stream",
          "name": "stdout",
          "text": [
            "오늘은 AI의 AI 기술 스택 업그레이드에 대한 논의를 시작하려고 하는데, Transformer 기반의 BERT 모델을 검토해 보았는데, 이 모델은 문맥 파악에서 우수한 성능을 보이는 편이지만 어떤 토큰 레벨의 조정이 필요한지 논의해 볼 필요가 있어 보입니다.\n"
          ]
        }
      ]
    },
    {
      "cell_type": "code",
      "source": [
        "summary_text_ids = model.generate(\n",
        "    input_ids=input_ids,\n",
        "    bos_token_id=model.config.bos_token_id,\n",
        "    eos_token_id=model.config.eos_token_id,\n",
        "    length_penalty=1.0,\n",
        "    max_length=128,\n",
        "    min_length=32,\n",
        "    num_beams=4\n",
        ")"
      ],
      "metadata": {
        "id": "qW-5ALoUHIzK"
      },
      "execution_count": 18,
      "outputs": []
    },
    {
      "cell_type": "code",
      "source": [
        "print(tokenizer.decode(summary_text_ids[0], skip_special_tokens=True))"
      ],
      "metadata": {
        "colab": {
          "base_uri": "https://localhost:8080/"
        },
        "id": "BuNJXhXjHUME",
        "outputId": "97ab71b8-8ffa-466f-ce32-2fa423a7af58"
      },
      "execution_count": 19,
      "outputs": [
        {
          "output_type": "stream",
          "name": "stdout",
          "text": [
            "오늘은 AI의 AI 기술 스택 업그레이드에 대한 논의를 시작하려고 하는데, Transformer 기반의 BERT 모델을 검토해 보았는데, 이 모델은 문맥 파악에서 우수한 성능을 보이는 편이지만 어떤 토큰 레벨의 조정이 필요한지 논의해 볼 필요가 있어 보입니다.\n"
          ]
        }
      ]
    }
  ]
}